{
 "cells": [
  {
   "cell_type": "markdown",
   "id": "c23aa4d4",
   "metadata": {
    "papermill": {
     "duration": 0.005211,
     "end_time": "2023-11-28T01:29:35.780435",
     "exception": false,
     "start_time": "2023-11-28T01:29:35.775224",
     "status": "completed"
    },
    "tags": []
   },
   "source": [
    "**This notebook is an exercise in the [Introduction to Machine Learning](https://www.kaggle.com/learn/intro-to-machine-learning) course.  You can reference the tutorial at [this link](https://www.kaggle.com/dansbecker/underfitting-and-overfitting).**\n",
    "\n",
    "---\n"
   ]
  },
  {
   "cell_type": "markdown",
   "id": "8944974a",
   "metadata": {
    "papermill": {
     "duration": 0.004487,
     "end_time": "2023-11-28T01:29:35.792363",
     "exception": false,
     "start_time": "2023-11-28T01:29:35.787876",
     "status": "completed"
    },
    "tags": []
   },
   "source": [
    "## Recap\n",
    "You've built your first model, and now it's time to optimize the size of the tree to make better predictions. Run this cell to set up your coding environment where the previous step left off."
   ]
  },
  {
   "cell_type": "code",
   "execution_count": 1,
   "id": "234aaa97",
   "metadata": {
    "execution": {
     "iopub.execute_input": "2023-11-28T01:29:35.803809Z",
     "iopub.status.busy": "2023-11-28T01:29:35.803314Z",
     "iopub.status.idle": "2023-11-28T01:29:38.021762Z",
     "shell.execute_reply": "2023-11-28T01:29:38.020117Z"
    },
    "papermill": {
     "duration": 2.22717,
     "end_time": "2023-11-28T01:29:38.024272",
     "exception": false,
     "start_time": "2023-11-28T01:29:35.797102",
     "status": "completed"
    },
    "tags": []
   },
   "outputs": [
    {
     "name": "stdout",
     "output_type": "stream",
     "text": [
      "Validation MAE: 29,653\n",
      "\n",
      "Setup complete\n"
     ]
    }
   ],
   "source": [
    "# Code you have previously used to load data\n",
    "import pandas as pd\n",
    "from sklearn.metrics import mean_absolute_error\n",
    "from sklearn.model_selection import train_test_split\n",
    "from sklearn.tree import DecisionTreeRegressor\n",
    "\n",
    "\n",
    "# Path of the file to read\n",
    "iowa_file_path = '../input/home-data-for-ml-course/train.csv'\n",
    "\n",
    "home_data = pd.read_csv(iowa_file_path)\n",
    "# Create target object and call it y\n",
    "y = home_data.SalePrice\n",
    "# Create X\n",
    "features = ['LotArea', 'YearBuilt', '1stFlrSF', '2ndFlrSF', 'FullBath', 'BedroomAbvGr', 'TotRmsAbvGrd']\n",
    "X = home_data[features]\n",
    "\n",
    "# Split into validation and training data\n",
    "train_X, val_X, train_y, val_y = train_test_split(X, y, random_state=1)\n",
    "\n",
    "# Specify Model\n",
    "iowa_model = DecisionTreeRegressor(random_state=1)\n",
    "# Fit Model\n",
    "iowa_model.fit(train_X, train_y)\n",
    "\n",
    "# Make validation predictions and calculate mean absolute error\n",
    "val_predictions = iowa_model.predict(val_X)\n",
    "val_mae = mean_absolute_error(val_predictions, val_y)\n",
    "print(\"Validation MAE: {:,.0f}\".format(val_mae))\n",
    "\n",
    "# Set up code checking\n",
    "from learntools.core import binder\n",
    "binder.bind(globals())\n",
    "from learntools.machine_learning.ex5 import *\n",
    "print(\"\\nSetup complete\")"
   ]
  },
  {
   "cell_type": "markdown",
   "id": "938360e7",
   "metadata": {
    "papermill": {
     "duration": 0.004573,
     "end_time": "2023-11-28T01:29:38.033930",
     "exception": false,
     "start_time": "2023-11-28T01:29:38.029357",
     "status": "completed"
    },
    "tags": []
   },
   "source": [
    "# Exercises\n",
    "You could write the function `get_mae` yourself. For now, we'll supply it. This is the same function you read about in the previous lesson. Just run the cell below."
   ]
  },
  {
   "cell_type": "code",
   "execution_count": 2,
   "id": "93ace644",
   "metadata": {
    "execution": {
     "iopub.execute_input": "2023-11-28T01:29:38.045330Z",
     "iopub.status.busy": "2023-11-28T01:29:38.044945Z",
     "iopub.status.idle": "2023-11-28T01:29:38.051039Z",
     "shell.execute_reply": "2023-11-28T01:29:38.049998Z"
    },
    "papermill": {
     "duration": 0.014928,
     "end_time": "2023-11-28T01:29:38.053578",
     "exception": false,
     "start_time": "2023-11-28T01:29:38.038650",
     "status": "completed"
    },
    "tags": []
   },
   "outputs": [],
   "source": [
    "def get_mae(max_leaf_nodes, train_X, val_X, train_y, val_y):\n",
    "    model = DecisionTreeRegressor(max_leaf_nodes=max_leaf_nodes, random_state=0)\n",
    "    model.fit(train_X, train_y)\n",
    "    preds_val = model.predict(val_X)\n",
    "    mae = mean_absolute_error(val_y, preds_val)\n",
    "    return(mae)"
   ]
  },
  {
   "cell_type": "markdown",
   "id": "f6077fb8",
   "metadata": {
    "papermill": {
     "duration": 0.004501,
     "end_time": "2023-11-28T01:29:38.062921",
     "exception": false,
     "start_time": "2023-11-28T01:29:38.058420",
     "status": "completed"
    },
    "tags": []
   },
   "source": [
    "## Step 1: Compare Different Tree Sizes\n",
    "Write a loop that tries the following values for *max_leaf_nodes* from a set of possible values.\n",
    "\n",
    "Call the *get_mae* function on each value of max_leaf_nodes. Store the output in some way that allows you to select the value of `max_leaf_nodes` that gives the most accurate model on your data."
   ]
  },
  {
   "cell_type": "code",
   "execution_count": 3,
   "id": "fb8f4716",
   "metadata": {
    "execution": {
     "iopub.execute_input": "2023-11-28T01:29:38.074439Z",
     "iopub.status.busy": "2023-11-28T01:29:38.074050Z",
     "iopub.status.idle": "2023-11-28T01:29:38.128338Z",
     "shell.execute_reply": "2023-11-28T01:29:38.127177Z"
    },
    "papermill": {
     "duration": 0.062759,
     "end_time": "2023-11-28T01:29:38.130670",
     "exception": false,
     "start_time": "2023-11-28T01:29:38.067911",
     "status": "completed"
    },
    "tags": []
   },
   "outputs": [
    {
     "data": {
      "application/javascript": [
       "parent.postMessage({\"jupyterEvent\": \"custom.exercise_interaction\", \"data\": {\"outcomeType\": 1, \"valueTowardsCompletion\": 0.5, \"interactionType\": 1, \"questionType\": 1, \"questionId\": \"1_BestTreeSize\", \"learnToolsVersion\": \"0.3.4\", \"failureMessage\": \"\", \"exceptionClass\": \"\", \"trace\": \"\"}}, \"*\")"
      ],
      "text/plain": [
       "<IPython.core.display.Javascript object>"
      ]
     },
     "metadata": {},
     "output_type": "display_data"
    },
    {
     "data": {
      "text/markdown": [
       "<span style=\"color:#33cc33\">Correct</span>"
      ],
      "text/plain": [
       "Correct"
      ]
     },
     "metadata": {},
     "output_type": "display_data"
    }
   ],
   "source": [
    "candidate_max_leaf_nodes = [5, 25, 50, 100, 250, 500]\n",
    "# Write loop to find the ideal tree size from candidate_max_leaf_nodes\n",
    "scores = {leaf_size: get_mae(leaf_size, train_X, val_X, train_y, val_y) for leaf_size in candidate_max_leaf_nodes}\n",
    "best_tree_size = min(scores, key=scores.get)\n",
    "\n",
    "# Check your answer\n",
    "step_1.check()"
   ]
  },
  {
   "cell_type": "code",
   "execution_count": 4,
   "id": "05959243",
   "metadata": {
    "execution": {
     "iopub.execute_input": "2023-11-28T01:29:38.143175Z",
     "iopub.status.busy": "2023-11-28T01:29:38.142752Z",
     "iopub.status.idle": "2023-11-28T01:29:38.146758Z",
     "shell.execute_reply": "2023-11-28T01:29:38.145926Z"
    },
    "papermill": {
     "duration": 0.013114,
     "end_time": "2023-11-28T01:29:38.149018",
     "exception": false,
     "start_time": "2023-11-28T01:29:38.135904",
     "status": "completed"
    },
    "tags": []
   },
   "outputs": [],
   "source": [
    "# The lines below will show you a hint or the solution.\n",
    "# step_1.hint() \n",
    "# step_1.solution()"
   ]
  },
  {
   "cell_type": "markdown",
   "id": "f9a6a0bb",
   "metadata": {
    "papermill": {
     "duration": 0.005448,
     "end_time": "2023-11-28T01:29:38.159812",
     "exception": false,
     "start_time": "2023-11-28T01:29:38.154364",
     "status": "completed"
    },
    "tags": []
   },
   "source": [
    "## Step 2: Fit Model Using All Data\n",
    "You know the best tree size. If you were going to deploy this model in practice, you would make it even more accurate by using all of the data and keeping that tree size.  That is, you don't need to hold out the validation data now that you've made all your modeling decisions."
   ]
  },
  {
   "cell_type": "code",
   "execution_count": 5,
   "id": "d504018b",
   "metadata": {
    "execution": {
     "iopub.execute_input": "2023-11-28T01:29:38.172336Z",
     "iopub.status.busy": "2023-11-28T01:29:38.171914Z",
     "iopub.status.idle": "2023-11-28T01:29:38.191338Z",
     "shell.execute_reply": "2023-11-28T01:29:38.190036Z"
    },
    "papermill": {
     "duration": 0.028818,
     "end_time": "2023-11-28T01:29:38.193939",
     "exception": false,
     "start_time": "2023-11-28T01:29:38.165121",
     "status": "completed"
    },
    "tags": []
   },
   "outputs": [
    {
     "data": {
      "application/javascript": [
       "parent.postMessage({\"jupyterEvent\": \"custom.exercise_interaction\", \"data\": {\"outcomeType\": 1, \"valueTowardsCompletion\": 0.5, \"interactionType\": 1, \"questionType\": 2, \"questionId\": \"2_FitModelWithAllData\", \"learnToolsVersion\": \"0.3.4\", \"failureMessage\": \"\", \"exceptionClass\": \"\", \"trace\": \"\"}}, \"*\")"
      ],
      "text/plain": [
       "<IPython.core.display.Javascript object>"
      ]
     },
     "metadata": {},
     "output_type": "display_data"
    },
    {
     "data": {
      "text/markdown": [
       "<span style=\"color:#33cc33\">Correct</span>"
      ],
      "text/plain": [
       "Correct"
      ]
     },
     "metadata": {},
     "output_type": "display_data"
    }
   ],
   "source": [
    "# Fill in argument to make optimal size and uncomment\n",
    "final_model = DecisionTreeRegressor(max_leaf_nodes=best_tree_size, random_state=1)\n",
    "\n",
    "# fit the final model and uncomment the next two lines\n",
    "final_model.fit(X, y)\n",
    "\n",
    "# Check your answer\n",
    "step_2.check()"
   ]
  },
  {
   "cell_type": "code",
   "execution_count": 6,
   "id": "89de7b51",
   "metadata": {
    "execution": {
     "iopub.execute_input": "2023-11-28T01:29:38.206948Z",
     "iopub.status.busy": "2023-11-28T01:29:38.206508Z",
     "iopub.status.idle": "2023-11-28T01:29:38.211176Z",
     "shell.execute_reply": "2023-11-28T01:29:38.210006Z"
    },
    "papermill": {
     "duration": 0.014133,
     "end_time": "2023-11-28T01:29:38.213628",
     "exception": false,
     "start_time": "2023-11-28T01:29:38.199495",
     "status": "completed"
    },
    "tags": []
   },
   "outputs": [],
   "source": [
    "# step_2.hint()\n",
    "# step_2.solution()"
   ]
  },
  {
   "cell_type": "markdown",
   "id": "180aceb3",
   "metadata": {
    "papermill": {
     "duration": 0.005209,
     "end_time": "2023-11-28T01:29:38.224521",
     "exception": false,
     "start_time": "2023-11-28T01:29:38.219312",
     "status": "completed"
    },
    "tags": []
   },
   "source": [
    "You've tuned this model and improved your results. But we are still using Decision Tree models, which are not very sophisticated by modern machine learning standards. In the next step you will learn to use Random Forests to improve your models even more.\n",
    "\n",
    "# Keep Going\n",
    "\n",
    "You are ready for **[Random Forests](https://www.kaggle.com/dansbecker/random-forests).**\n"
   ]
  },
  {
   "cell_type": "markdown",
   "id": "77b5b43b",
   "metadata": {
    "papermill": {
     "duration": 0.005334,
     "end_time": "2023-11-28T01:29:38.235364",
     "exception": false,
     "start_time": "2023-11-28T01:29:38.230030",
     "status": "completed"
    },
    "tags": []
   },
   "source": [
    "---\n",
    "\n",
    "\n",
    "\n",
    "\n",
    "*Have questions or comments? Visit the [course discussion forum](https://www.kaggle.com/learn/intro-to-machine-learning/discussion) to chat with other learners.*"
   ]
  }
 ],
 "metadata": {
  "kaggle": {
   "accelerator": "none",
   "dataSources": [
    {
     "databundleVersionId": 111096,
     "sourceId": 10211,
     "sourceType": "competition"
    },
    {
     "datasetId": 11167,
     "sourceId": 15520,
     "sourceType": "datasetVersion"
    },
    {
     "datasetId": 2709,
     "sourceId": 38454,
     "sourceType": "datasetVersion"
    }
   ],
   "isGpuEnabled": false,
   "isInternetEnabled": false,
   "language": "python",
   "sourceType": "notebook"
  },
  "kernelspec": {
   "display_name": "Python 3",
   "language": "python",
   "name": "python3"
  },
  "language_info": {
   "codemirror_mode": {
    "name": "ipython",
    "version": 3
   },
   "file_extension": ".py",
   "mimetype": "text/x-python",
   "name": "python",
   "nbconvert_exporter": "python",
   "pygments_lexer": "ipython3",
   "version": "3.10.12"
  },
  "papermill": {
   "default_parameters": {},
   "duration": 6.605948,
   "end_time": "2023-11-28T01:29:38.862791",
   "environment_variables": {},
   "exception": null,
   "input_path": "__notebook__.ipynb",
   "output_path": "__notebook__.ipynb",
   "parameters": {},
   "start_time": "2023-11-28T01:29:32.256843",
   "version": "2.4.0"
  }
 },
 "nbformat": 4,
 "nbformat_minor": 5
}
