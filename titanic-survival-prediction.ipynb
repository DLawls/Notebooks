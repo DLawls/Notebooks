{
 "cells": [
  {
   "cell_type": "code",
   "execution_count": 1,
   "id": "2c402a88",
   "metadata": {
    "_cell_guid": "b1076dfc-b9ad-4769-8c92-a6c4dae69d19",
    "_uuid": "8f2839f25d086af736a60e9eeb907d3b93b6e0e5",
    "execution": {
     "iopub.execute_input": "2023-11-25T10:19:06.921210Z",
     "iopub.status.busy": "2023-11-25T10:19:06.920755Z",
     "iopub.status.idle": "2023-11-25T10:19:07.415825Z",
     "shell.execute_reply": "2023-11-25T10:19:07.414493Z"
    },
    "papermill": {
     "duration": 0.505049,
     "end_time": "2023-11-25T10:19:07.418467",
     "exception": false,
     "start_time": "2023-11-25T10:19:06.913418",
     "status": "completed"
    },
    "tags": []
   },
   "outputs": [
    {
     "name": "stdout",
     "output_type": "stream",
     "text": [
      "/kaggle/input/titanic/train.csv\n",
      "/kaggle/input/titanic/test.csv\n",
      "/kaggle/input/titanic/gender_submission.csv\n"
     ]
    }
   ],
   "source": [
    "# This Python 3 environment comes with many helpful analytics libraries installed\n",
    "# It is defined by the kaggle/python Docker image: https://github.com/kaggle/docker-python\n",
    "# For example, here's several helpful packages to load\n",
    "\n",
    "import numpy as np # linear algebra\n",
    "import pandas as pd # data processing, CSV file I/O (e.g. pd.read_csv)\n",
    "\n",
    "# Input data files are available in the read-only \"../input/\" directory\n",
    "# For example, running this (by clicking run or pressing Shift+Enter) will list all files under the input directory\n",
    "\n",
    "import os\n",
    "for dirname, _, filenames in os.walk('/kaggle/input'):\n",
    "    for filename in filenames:\n",
    "        print(os.path.join(dirname, filename))\n",
    "\n",
    "# You can write up to 20GB to the current directory (/kaggle/working/) that gets preserved as output when you create a version using \"Save & Run All\" \n",
    "# You can also write temporary files to /kaggle/temp/, but they won't be saved outside of the current session"
   ]
  },
  {
   "cell_type": "code",
   "execution_count": 2,
   "id": "b707f368",
   "metadata": {
    "execution": {
     "iopub.execute_input": "2023-11-25T10:19:07.432275Z",
     "iopub.status.busy": "2023-11-25T10:19:07.431672Z",
     "iopub.status.idle": "2023-11-25T10:19:07.480724Z",
     "shell.execute_reply": "2023-11-25T10:19:07.479587Z"
    },
    "papermill": {
     "duration": 0.057481,
     "end_time": "2023-11-25T10:19:07.483223",
     "exception": false,
     "start_time": "2023-11-25T10:19:07.425742",
     "status": "completed"
    },
    "tags": []
   },
   "outputs": [
    {
     "data": {
      "text/html": [
       "<div>\n",
       "<style scoped>\n",
       "    .dataframe tbody tr th:only-of-type {\n",
       "        vertical-align: middle;\n",
       "    }\n",
       "\n",
       "    .dataframe tbody tr th {\n",
       "        vertical-align: top;\n",
       "    }\n",
       "\n",
       "    .dataframe thead th {\n",
       "        text-align: right;\n",
       "    }\n",
       "</style>\n",
       "<table border=\"1\" class=\"dataframe\">\n",
       "  <thead>\n",
       "    <tr style=\"text-align: right;\">\n",
       "      <th></th>\n",
       "      <th>PassengerId</th>\n",
       "      <th>Survived</th>\n",
       "      <th>Pclass</th>\n",
       "      <th>Name</th>\n",
       "      <th>Sex</th>\n",
       "      <th>Age</th>\n",
       "      <th>SibSp</th>\n",
       "      <th>Parch</th>\n",
       "      <th>Ticket</th>\n",
       "      <th>Fare</th>\n",
       "      <th>Cabin</th>\n",
       "      <th>Embarked</th>\n",
       "    </tr>\n",
       "  </thead>\n",
       "  <tbody>\n",
       "    <tr>\n",
       "      <th>0</th>\n",
       "      <td>1</td>\n",
       "      <td>0</td>\n",
       "      <td>3</td>\n",
       "      <td>Braund, Mr. Owen Harris</td>\n",
       "      <td>male</td>\n",
       "      <td>22.0</td>\n",
       "      <td>1</td>\n",
       "      <td>0</td>\n",
       "      <td>A/5 21171</td>\n",
       "      <td>7.2500</td>\n",
       "      <td>NaN</td>\n",
       "      <td>S</td>\n",
       "    </tr>\n",
       "    <tr>\n",
       "      <th>1</th>\n",
       "      <td>2</td>\n",
       "      <td>1</td>\n",
       "      <td>1</td>\n",
       "      <td>Cumings, Mrs. John Bradley (Florence Briggs Th...</td>\n",
       "      <td>female</td>\n",
       "      <td>38.0</td>\n",
       "      <td>1</td>\n",
       "      <td>0</td>\n",
       "      <td>PC 17599</td>\n",
       "      <td>71.2833</td>\n",
       "      <td>C85</td>\n",
       "      <td>C</td>\n",
       "    </tr>\n",
       "    <tr>\n",
       "      <th>2</th>\n",
       "      <td>3</td>\n",
       "      <td>1</td>\n",
       "      <td>3</td>\n",
       "      <td>Heikkinen, Miss. Laina</td>\n",
       "      <td>female</td>\n",
       "      <td>26.0</td>\n",
       "      <td>0</td>\n",
       "      <td>0</td>\n",
       "      <td>STON/O2. 3101282</td>\n",
       "      <td>7.9250</td>\n",
       "      <td>NaN</td>\n",
       "      <td>S</td>\n",
       "    </tr>\n",
       "    <tr>\n",
       "      <th>3</th>\n",
       "      <td>4</td>\n",
       "      <td>1</td>\n",
       "      <td>1</td>\n",
       "      <td>Futrelle, Mrs. Jacques Heath (Lily May Peel)</td>\n",
       "      <td>female</td>\n",
       "      <td>35.0</td>\n",
       "      <td>1</td>\n",
       "      <td>0</td>\n",
       "      <td>113803</td>\n",
       "      <td>53.1000</td>\n",
       "      <td>C123</td>\n",
       "      <td>S</td>\n",
       "    </tr>\n",
       "    <tr>\n",
       "      <th>4</th>\n",
       "      <td>5</td>\n",
       "      <td>0</td>\n",
       "      <td>3</td>\n",
       "      <td>Allen, Mr. William Henry</td>\n",
       "      <td>male</td>\n",
       "      <td>35.0</td>\n",
       "      <td>0</td>\n",
       "      <td>0</td>\n",
       "      <td>373450</td>\n",
       "      <td>8.0500</td>\n",
       "      <td>NaN</td>\n",
       "      <td>S</td>\n",
       "    </tr>\n",
       "  </tbody>\n",
       "</table>\n",
       "</div>"
      ],
      "text/plain": [
       "   PassengerId  Survived  Pclass  \\\n",
       "0            1         0       3   \n",
       "1            2         1       1   \n",
       "2            3         1       3   \n",
       "3            4         1       1   \n",
       "4            5         0       3   \n",
       "\n",
       "                                                Name     Sex   Age  SibSp  \\\n",
       "0                            Braund, Mr. Owen Harris    male  22.0      1   \n",
       "1  Cumings, Mrs. John Bradley (Florence Briggs Th...  female  38.0      1   \n",
       "2                             Heikkinen, Miss. Laina  female  26.0      0   \n",
       "3       Futrelle, Mrs. Jacques Heath (Lily May Peel)  female  35.0      1   \n",
       "4                           Allen, Mr. William Henry    male  35.0      0   \n",
       "\n",
       "   Parch            Ticket     Fare Cabin Embarked  \n",
       "0      0         A/5 21171   7.2500   NaN        S  \n",
       "1      0          PC 17599  71.2833   C85        C  \n",
       "2      0  STON/O2. 3101282   7.9250   NaN        S  \n",
       "3      0            113803  53.1000  C123        S  \n",
       "4      0            373450   8.0500   NaN        S  "
      ]
     },
     "execution_count": 2,
     "metadata": {},
     "output_type": "execute_result"
    }
   ],
   "source": [
    "# EDA\n",
    "# Load the data from train.csv into a pandas dataframe\n",
    "train_data = pd.read_csv(\"/kaggle/input/titanic/train.csv\")\n",
    "# Print the first 5 rows\n",
    "train_data.head()"
   ]
  },
  {
   "cell_type": "code",
   "execution_count": 3,
   "id": "a665aa6a",
   "metadata": {
    "execution": {
     "iopub.execute_input": "2023-11-25T10:19:07.494642Z",
     "iopub.status.busy": "2023-11-25T10:19:07.494171Z",
     "iopub.status.idle": "2023-11-25T10:19:07.506956Z",
     "shell.execute_reply": "2023-11-25T10:19:07.505991Z"
    },
    "papermill": {
     "duration": 0.021265,
     "end_time": "2023-11-25T10:19:07.509398",
     "exception": false,
     "start_time": "2023-11-25T10:19:07.488133",
     "status": "completed"
    },
    "tags": []
   },
   "outputs": [],
   "source": [
    "test_data = pd.read_csv(\"/kaggle/input/titanic/test.csv\")"
   ]
  },
  {
   "cell_type": "code",
   "execution_count": 4,
   "id": "90b64426",
   "metadata": {
    "execution": {
     "iopub.execute_input": "2023-11-25T10:19:07.521004Z",
     "iopub.status.busy": "2023-11-25T10:19:07.520579Z",
     "iopub.status.idle": "2023-11-25T10:19:07.527429Z",
     "shell.execute_reply": "2023-11-25T10:19:07.526369Z"
    },
    "papermill": {
     "duration": 0.015746,
     "end_time": "2023-11-25T10:19:07.530162",
     "exception": false,
     "start_time": "2023-11-25T10:19:07.514416",
     "status": "completed"
    },
    "tags": []
   },
   "outputs": [
    {
     "data": {
      "text/plain": [
       "(891, 12)"
      ]
     },
     "execution_count": 4,
     "metadata": {},
     "output_type": "execute_result"
    }
   ],
   "source": [
    "# Check the data shape\n",
    "train_data.shape"
   ]
  },
  {
   "cell_type": "markdown",
   "id": "04a42b5e",
   "metadata": {
    "papermill": {
     "duration": 0.004806,
     "end_time": "2023-11-25T10:19:07.540095",
     "exception": false,
     "start_time": "2023-11-25T10:19:07.535289",
     "status": "completed"
    },
    "tags": []
   },
   "source": []
  },
  {
   "cell_type": "code",
   "execution_count": 5,
   "id": "27b06972",
   "metadata": {
    "execution": {
     "iopub.execute_input": "2023-11-25T10:19:07.552928Z",
     "iopub.status.busy": "2023-11-25T10:19:07.551765Z",
     "iopub.status.idle": "2023-11-25T10:19:07.564984Z",
     "shell.execute_reply": "2023-11-25T10:19:07.563875Z"
    },
    "papermill": {
     "duration": 0.022445,
     "end_time": "2023-11-25T10:19:07.567437",
     "exception": false,
     "start_time": "2023-11-25T10:19:07.544992",
     "status": "completed"
    },
    "tags": []
   },
   "outputs": [
    {
     "name": "stdout",
     "output_type": "stream",
     "text": [
      "% of women who survived: 0.7420382165605095\n"
     ]
    }
   ],
   "source": [
    "# % Women Survived\n",
    "women = train_data.loc[train_data.Sex == 'female'][\"Survived\"]\n",
    "rate_women = sum(women)/len(women)\n",
    "\n",
    "print(\"% of women who survived:\", rate_women)"
   ]
  },
  {
   "cell_type": "code",
   "execution_count": 6,
   "id": "d20dae42",
   "metadata": {
    "execution": {
     "iopub.execute_input": "2023-11-25T10:19:07.579867Z",
     "iopub.status.busy": "2023-11-25T10:19:07.579427Z",
     "iopub.status.idle": "2023-11-25T10:19:07.587905Z",
     "shell.execute_reply": "2023-11-25T10:19:07.586828Z"
    },
    "papermill": {
     "duration": 0.017362,
     "end_time": "2023-11-25T10:19:07.590048",
     "exception": false,
     "start_time": "2023-11-25T10:19:07.572686",
     "status": "completed"
    },
    "tags": []
   },
   "outputs": [
    {
     "name": "stdout",
     "output_type": "stream",
     "text": [
      "% of men who survived: 0.18890814558058924\n"
     ]
    }
   ],
   "source": [
    "# % Men Survived\n",
    "men = train_data.loc[train_data.Sex == 'male'][\"Survived\"]\n",
    "rate_men = sum(men)/len(men)\n",
    "\n",
    "print(\"% of men who survived:\", rate_men)"
   ]
  },
  {
   "cell_type": "markdown",
   "id": "80eb3617",
   "metadata": {
    "papermill": {
     "duration": 0.004715,
     "end_time": "2023-11-25T10:19:07.600068",
     "exception": false,
     "start_time": "2023-11-25T10:19:07.595353",
     "status": "completed"
    },
    "tags": []
   },
   "source": [
    "# Observation 1 \n",
    "Gender is a strong indicator of survival, but thats only 1 column. Since it is quite difficult to consider several columns at once (or, it would take a long time to consider all possible patterns in many different columns simultaneously), we'll use machine learning to automate this for us - random forest model."
   ]
  },
  {
   "cell_type": "markdown",
   "id": "3815210b",
   "metadata": {
    "papermill": {
     "duration": 0.004642,
     "end_time": "2023-11-25T10:19:07.609617",
     "exception": false,
     "start_time": "2023-11-25T10:19:07.604975",
     "status": "completed"
    },
    "tags": []
   },
   "source": []
  },
  {
   "cell_type": "code",
   "execution_count": 7,
   "id": "ad213a26",
   "metadata": {
    "execution": {
     "iopub.execute_input": "2023-11-25T10:19:07.622018Z",
     "iopub.status.busy": "2023-11-25T10:19:07.621194Z",
     "iopub.status.idle": "2023-11-25T10:19:09.495738Z",
     "shell.execute_reply": "2023-11-25T10:19:09.494461Z"
    },
    "papermill": {
     "duration": 1.883977,
     "end_time": "2023-11-25T10:19:09.498407",
     "exception": false,
     "start_time": "2023-11-25T10:19:07.614430",
     "status": "completed"
    },
    "tags": []
   },
   "outputs": [
    {
     "name": "stdout",
     "output_type": "stream",
     "text": [
      "Your submission was successfully saved!\n"
     ]
    }
   ],
   "source": [
    "from sklearn.ensemble import RandomForestClassifier\n",
    "\n",
    "y = train_data[\"Survived\"]\n",
    "\n",
    "features = [\"Pclass\", \"Sex\", \"SibSp\", \"Parch\"]\n",
    "X = pd.get_dummies(train_data[features])\n",
    "X_test = pd.get_dummies(test_data[features])\n",
    "\n",
    "model = RandomForestClassifier(n_estimators=100, max_depth=5, random_state=1)\n",
    "model.fit(X, y)\n",
    "predictions = model.predict(X_test)\n",
    "\n",
    "output = pd.DataFrame({'PassengerId': test_data.PassengerId, 'Survived': predictions})\n",
    "output.to_csv('submission.csv', index=False)\n",
    "print(\"Your submission was successfully saved!\")"
   ]
  },
  {
   "cell_type": "code",
   "execution_count": null,
   "id": "21197933",
   "metadata": {
    "papermill": {
     "duration": 0.004966,
     "end_time": "2023-11-25T10:19:09.509174",
     "exception": false,
     "start_time": "2023-11-25T10:19:09.504208",
     "status": "completed"
    },
    "tags": []
   },
   "outputs": [],
   "source": []
  }
 ],
 "metadata": {
  "kaggle": {
   "accelerator": "none",
   "dataSources": [
    {
     "databundleVersionId": 26502,
     "sourceId": 3136,
     "sourceType": "competition"
    }
   ],
   "dockerImageVersionId": 30587,
   "isGpuEnabled": false,
   "isInternetEnabled": true,
   "language": "python",
   "sourceType": "notebook"
  },
  "kernelspec": {
   "display_name": "Python 3",
   "language": "python",
   "name": "python3"
  },
  "language_info": {
   "codemirror_mode": {
    "name": "ipython",
    "version": 3
   },
   "file_extension": ".py",
   "mimetype": "text/x-python",
   "name": "python",
   "nbconvert_exporter": "python",
   "pygments_lexer": "ipython3",
   "version": "3.10.12"
  },
  "papermill": {
   "default_parameters": {},
   "duration": 7.09241,
   "end_time": "2023-11-25T10:19:10.336986",
   "environment_variables": {},
   "exception": null,
   "input_path": "__notebook__.ipynb",
   "output_path": "__notebook__.ipynb",
   "parameters": {},
   "start_time": "2023-11-25T10:19:03.244576",
   "version": "2.4.0"
  }
 },
 "nbformat": 4,
 "nbformat_minor": 5
}
