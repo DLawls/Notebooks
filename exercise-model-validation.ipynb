{
 "cells": [
  {
   "cell_type": "markdown",
   "id": "61346613",
   "metadata": {
    "papermill": {
     "duration": 0.004646,
     "end_time": "2023-11-28T00:57:52.453892",
     "exception": false,
     "start_time": "2023-11-28T00:57:52.449246",
     "status": "completed"
    },
    "tags": []
   },
   "source": [
    "**This notebook is an exercise in the [Introduction to Machine Learning](https://www.kaggle.com/learn/intro-to-machine-learning) course.  You can reference the tutorial at [this link](https://www.kaggle.com/dansbecker/model-validation).**\n",
    "\n",
    "---\n"
   ]
  },
  {
   "cell_type": "markdown",
   "id": "5976ecd3",
   "metadata": {
    "papermill": {
     "duration": 0.003777,
     "end_time": "2023-11-28T00:57:52.463918",
     "exception": false,
     "start_time": "2023-11-28T00:57:52.460141",
     "status": "completed"
    },
    "tags": []
   },
   "source": [
    "## Recap\n",
    "You've built a model. In this exercise you will test how good your model is.\n",
    "\n",
    "Run the cell below to set up your coding environment where the previous exercise left off."
   ]
  },
  {
   "cell_type": "code",
   "execution_count": 1,
   "id": "772d5f8a",
   "metadata": {
    "execution": {
     "iopub.execute_input": "2023-11-28T00:57:52.474179Z",
     "iopub.status.busy": "2023-11-28T00:57:52.473569Z",
     "iopub.status.idle": "2023-11-28T00:57:54.372109Z",
     "shell.execute_reply": "2023-11-28T00:57:54.370918Z"
    },
    "papermill": {
     "duration": 1.906511,
     "end_time": "2023-11-28T00:57:54.374425",
     "exception": false,
     "start_time": "2023-11-28T00:57:52.467914",
     "status": "completed"
    },
    "tags": []
   },
   "outputs": [
    {
     "name": "stdout",
     "output_type": "stream",
     "text": [
      "First in-sample predictions: [208500. 181500. 223500. 140000. 250000.]\n",
      "Actual target values for those homes: [208500, 181500, 223500, 140000, 250000]\n",
      "Setup Complete\n"
     ]
    }
   ],
   "source": [
    "# Code you have previously used to load data\n",
    "import pandas as pd\n",
    "from sklearn.tree import DecisionTreeRegressor\n",
    "\n",
    "# Path of the file to read\n",
    "iowa_file_path = '../input/home-data-for-ml-course/train.csv'\n",
    "\n",
    "home_data = pd.read_csv(iowa_file_path)\n",
    "y = home_data.SalePrice\n",
    "feature_columns = ['LotArea', 'YearBuilt', '1stFlrSF', '2ndFlrSF', 'FullBath', 'BedroomAbvGr', 'TotRmsAbvGrd']\n",
    "X = home_data[feature_columns]\n",
    "\n",
    "# Specify Model\n",
    "iowa_model = DecisionTreeRegressor()\n",
    "# Fit Model\n",
    "iowa_model.fit(X, y)\n",
    "\n",
    "print(\"First in-sample predictions:\", iowa_model.predict(X.head()))\n",
    "print(\"Actual target values for those homes:\", y.head().tolist())\n",
    "\n",
    "# Set up code checking\n",
    "from learntools.core import binder\n",
    "binder.bind(globals())\n",
    "from learntools.machine_learning.ex4 import *\n",
    "print(\"Setup Complete\")"
   ]
  },
  {
   "cell_type": "markdown",
   "id": "78dc72ba",
   "metadata": {
    "papermill": {
     "duration": 0.003789,
     "end_time": "2023-11-28T00:57:54.382442",
     "exception": false,
     "start_time": "2023-11-28T00:57:54.378653",
     "status": "completed"
    },
    "tags": []
   },
   "source": [
    "# Exercises\n",
    "\n",
    "## Step 1: Split Your Data\n",
    "Use the `train_test_split` function to split up your data.\n",
    "\n",
    "Give it the argument `random_state=1` so the `check` functions know what to expect when verifying your code.\n",
    "\n",
    "Recall, your features are loaded in the DataFrame **X** and your target is loaded in **y**.\n"
   ]
  },
  {
   "cell_type": "code",
   "execution_count": 2,
   "id": "10b2ecf9",
   "metadata": {
    "execution": {
     "iopub.execute_input": "2023-11-28T00:57:54.392330Z",
     "iopub.status.busy": "2023-11-28T00:57:54.391912Z",
     "iopub.status.idle": "2023-11-28T00:57:54.404811Z",
     "shell.execute_reply": "2023-11-28T00:57:54.403765Z"
    },
    "papermill": {
     "duration": 0.02057,
     "end_time": "2023-11-28T00:57:54.406930",
     "exception": false,
     "start_time": "2023-11-28T00:57:54.386360",
     "status": "completed"
    },
    "tags": []
   },
   "outputs": [
    {
     "data": {
      "application/javascript": [
       "parent.postMessage({\"jupyterEvent\": \"custom.exercise_interaction\", \"data\": {\"outcomeType\": 1, \"valueTowardsCompletion\": 0.25, \"interactionType\": 1, \"questionType\": 2, \"questionId\": \"1_SplitData\", \"learnToolsVersion\": \"0.3.4\", \"failureMessage\": \"\", \"exceptionClass\": \"\", \"trace\": \"\"}}, \"*\")"
      ],
      "text/plain": [
       "<IPython.core.display.Javascript object>"
      ]
     },
     "metadata": {},
     "output_type": "display_data"
    },
    {
     "data": {
      "text/markdown": [
       "<span style=\"color:#33cc33\">Correct</span>"
      ],
      "text/plain": [
       "Correct"
      ]
     },
     "metadata": {},
     "output_type": "display_data"
    }
   ],
   "source": [
    "# Import the train_test_split function and uncomment\n",
    "from sklearn.model_selection import train_test_split\n",
    "\n",
    "# fill in and uncomment\n",
    "train_X, val_X, train_y, val_y = train_test_split(X, y, random_state=1)\n",
    "\n",
    "# Check your answer\n",
    "step_1.check()"
   ]
  },
  {
   "cell_type": "code",
   "execution_count": 3,
   "id": "cb4c0026",
   "metadata": {
    "execution": {
     "iopub.execute_input": "2023-11-28T00:57:54.417004Z",
     "iopub.status.busy": "2023-11-28T00:57:54.416637Z",
     "iopub.status.idle": "2023-11-28T00:57:54.421524Z",
     "shell.execute_reply": "2023-11-28T00:57:54.420544Z"
    },
    "papermill": {
     "duration": 0.012669,
     "end_time": "2023-11-28T00:57:54.424037",
     "exception": false,
     "start_time": "2023-11-28T00:57:54.411368",
     "status": "completed"
    },
    "tags": []
   },
   "outputs": [],
   "source": [
    "# The lines below will show you a hint or the solution.\n",
    "# step_1.hint() \n",
    "# step_1.solution()\n"
   ]
  },
  {
   "cell_type": "markdown",
   "id": "b0214bb2",
   "metadata": {
    "papermill": {
     "duration": 0.004317,
     "end_time": "2023-11-28T00:57:54.432881",
     "exception": false,
     "start_time": "2023-11-28T00:57:54.428564",
     "status": "completed"
    },
    "tags": []
   },
   "source": [
    "## Step 2: Specify and Fit the Model\n",
    "\n",
    "Create a `DecisionTreeRegressor` model and fit it to the relevant data.\n",
    "Set `random_state` to 1 again when creating the model."
   ]
  },
  {
   "cell_type": "code",
   "execution_count": 4,
   "id": "28de3b03",
   "metadata": {
    "execution": {
     "iopub.execute_input": "2023-11-28T00:57:54.443062Z",
     "iopub.status.busy": "2023-11-28T00:57:54.442649Z",
     "iopub.status.idle": "2023-11-28T00:57:54.467884Z",
     "shell.execute_reply": "2023-11-28T00:57:54.466838Z"
    },
    "papermill": {
     "duration": 0.032837,
     "end_time": "2023-11-28T00:57:54.469929",
     "exception": false,
     "start_time": "2023-11-28T00:57:54.437092",
     "status": "completed"
    },
    "tags": []
   },
   "outputs": [
    {
     "name": "stdout",
     "output_type": "stream",
     "text": [
      "[186500. 184000. 130000.  92000. 164500. 220000. 335000. 144152. 215000.\n",
      " 262000.]\n",
      "[186500. 184000. 130000.  92000. 164500. 220000. 335000. 144152. 215000.\n",
      " 262000.]\n"
     ]
    },
    {
     "data": {
      "application/javascript": [
       "parent.postMessage({\"jupyterEvent\": \"custom.exercise_interaction\", \"data\": {\"outcomeType\": 1, \"valueTowardsCompletion\": 0.25, \"interactionType\": 1, \"questionType\": 2, \"questionId\": \"2_FitModelWithTrain\", \"learnToolsVersion\": \"0.3.4\", \"failureMessage\": \"\", \"exceptionClass\": \"\", \"trace\": \"\"}}, \"*\")"
      ],
      "text/plain": [
       "<IPython.core.display.Javascript object>"
      ]
     },
     "metadata": {},
     "output_type": "display_data"
    },
    {
     "data": {
      "text/markdown": [
       "<span style=\"color:#33cc33\">Correct</span>"
      ],
      "text/plain": [
       "Correct"
      ]
     },
     "metadata": {},
     "output_type": "display_data"
    }
   ],
   "source": [
    "# You imported DecisionTreeRegressor in your last exercise\n",
    "# and that code has been copied to the setup code above. So, no need to\n",
    "# import it again\n",
    "\n",
    "# Specify the model\n",
    "iowa_model = DecisionTreeRegressor(random_state=1)\n",
    "\n",
    "# Fit iowa_model with the training data.\n",
    "iowa_model.fit(train_X, train_y)\n",
    "\n",
    "# Check your answer\n",
    "step_2.check()"
   ]
  },
  {
   "cell_type": "code",
   "execution_count": 5,
   "id": "2a28871e",
   "metadata": {
    "execution": {
     "iopub.execute_input": "2023-11-28T00:57:54.481888Z",
     "iopub.status.busy": "2023-11-28T00:57:54.480798Z",
     "iopub.status.idle": "2023-11-28T00:57:54.486532Z",
     "shell.execute_reply": "2023-11-28T00:57:54.485111Z"
    },
    "papermill": {
     "duration": 0.014023,
     "end_time": "2023-11-28T00:57:54.488899",
     "exception": false,
     "start_time": "2023-11-28T00:57:54.474876",
     "status": "completed"
    },
    "tags": []
   },
   "outputs": [],
   "source": [
    "# step_2.hint()\n",
    "#step_2.solution()"
   ]
  },
  {
   "cell_type": "markdown",
   "id": "16564f79",
   "metadata": {
    "papermill": {
     "duration": 0.004426,
     "end_time": "2023-11-28T00:57:54.498406",
     "exception": false,
     "start_time": "2023-11-28T00:57:54.493980",
     "status": "completed"
    },
    "tags": []
   },
   "source": [
    "## Step 3: Make Predictions with Validation data\n"
   ]
  },
  {
   "cell_type": "code",
   "execution_count": 6,
   "id": "3464bad8",
   "metadata": {
    "execution": {
     "iopub.execute_input": "2023-11-28T00:57:54.509239Z",
     "iopub.status.busy": "2023-11-28T00:57:54.508903Z",
     "iopub.status.idle": "2023-11-28T00:57:54.520683Z",
     "shell.execute_reply": "2023-11-28T00:57:54.519680Z"
    },
    "papermill": {
     "duration": 0.019524,
     "end_time": "2023-11-28T00:57:54.522689",
     "exception": false,
     "start_time": "2023-11-28T00:57:54.503165",
     "status": "completed"
    },
    "tags": []
   },
   "outputs": [
    {
     "data": {
      "application/javascript": [
       "parent.postMessage({\"jupyterEvent\": \"custom.exercise_interaction\", \"data\": {\"outcomeType\": 1, \"valueTowardsCompletion\": 0.25, \"interactionType\": 1, \"questionType\": 2, \"questionId\": \"3_ValPreds\", \"learnToolsVersion\": \"0.3.4\", \"failureMessage\": \"\", \"exceptionClass\": \"\", \"trace\": \"\"}}, \"*\")"
      ],
      "text/plain": [
       "<IPython.core.display.Javascript object>"
      ]
     },
     "metadata": {},
     "output_type": "display_data"
    },
    {
     "data": {
      "text/markdown": [
       "<span style=\"color:#33cc33\">Correct</span>"
      ],
      "text/plain": [
       "Correct"
      ]
     },
     "metadata": {},
     "output_type": "display_data"
    }
   ],
   "source": [
    "# Predict with all validation observations\n",
    "val_predictions = iowa_model.predict(val_X)\n",
    "\n",
    "# Check your answer\n",
    "step_3.check()"
   ]
  },
  {
   "cell_type": "code",
   "execution_count": 7,
   "id": "d617ad06",
   "metadata": {
    "execution": {
     "iopub.execute_input": "2023-11-28T00:57:54.534038Z",
     "iopub.status.busy": "2023-11-28T00:57:54.533684Z",
     "iopub.status.idle": "2023-11-28T00:57:54.536906Z",
     "shell.execute_reply": "2023-11-28T00:57:54.536248Z"
    },
    "papermill": {
     "duration": 0.01066,
     "end_time": "2023-11-28T00:57:54.538479",
     "exception": false,
     "start_time": "2023-11-28T00:57:54.527819",
     "status": "completed"
    },
    "tags": []
   },
   "outputs": [],
   "source": [
    "# step_3.hint()\n",
    "# step_3.solution()"
   ]
  },
  {
   "cell_type": "markdown",
   "id": "66e7a9a7",
   "metadata": {
    "papermill": {
     "duration": 0.004542,
     "end_time": "2023-11-28T00:57:54.547945",
     "exception": false,
     "start_time": "2023-11-28T00:57:54.543403",
     "status": "completed"
    },
    "tags": []
   },
   "source": [
    "Inspect your predictions and actual values from validation data."
   ]
  },
  {
   "cell_type": "code",
   "execution_count": 8,
   "id": "e8fff882",
   "metadata": {
    "execution": {
     "iopub.execute_input": "2023-11-28T00:57:54.559504Z",
     "iopub.status.busy": "2023-11-28T00:57:54.558844Z",
     "iopub.status.idle": "2023-11-28T00:57:54.564937Z",
     "shell.execute_reply": "2023-11-28T00:57:54.563596Z"
    },
    "papermill": {
     "duration": 0.014227,
     "end_time": "2023-11-28T00:57:54.566874",
     "exception": false,
     "start_time": "2023-11-28T00:57:54.552647",
     "status": "completed"
    },
    "tags": []
   },
   "outputs": [
    {
     "name": "stdout",
     "output_type": "stream",
     "text": [
      "[186500. 184000. 130000.  92000. 164500.]\n",
      "[231500, 179500, 122000, 84500, 142000]\n"
     ]
    }
   ],
   "source": [
    "# print the top few validation predictions\n",
    "print(val_predictions[:5])\n",
    "# print the top few actual prices from validation data\n",
    "print(val_y.head().tolist())"
   ]
  },
  {
   "cell_type": "markdown",
   "id": "95840505",
   "metadata": {
    "papermill": {
     "duration": 0.004521,
     "end_time": "2023-11-28T00:57:54.576487",
     "exception": false,
     "start_time": "2023-11-28T00:57:54.571966",
     "status": "completed"
    },
    "tags": []
   },
   "source": [
    "What do you notice that is different from what you saw with in-sample predictions (which are printed after the top code cell in this page).\n",
    "\n",
    "Do you remember why validation predictions differ from in-sample (or training) predictions? This is an important idea from the last lesson.\n",
    "\n",
    "## Step 4: Calculate the Mean Absolute Error in Validation Data\n"
   ]
  },
  {
   "cell_type": "code",
   "execution_count": 9,
   "id": "615defea",
   "metadata": {
    "execution": {
     "iopub.execute_input": "2023-11-28T00:57:54.588365Z",
     "iopub.status.busy": "2023-11-28T00:57:54.587071Z",
     "iopub.status.idle": "2023-11-28T00:57:54.596635Z",
     "shell.execute_reply": "2023-11-28T00:57:54.595776Z"
    },
    "papermill": {
     "duration": 0.017047,
     "end_time": "2023-11-28T00:57:54.598284",
     "exception": false,
     "start_time": "2023-11-28T00:57:54.581237",
     "status": "completed"
    },
    "tags": []
   },
   "outputs": [
    {
     "name": "stdout",
     "output_type": "stream",
     "text": [
      "29652.931506849316\n"
     ]
    },
    {
     "data": {
      "application/javascript": [
       "parent.postMessage({\"jupyterEvent\": \"custom.exercise_interaction\", \"data\": {\"outcomeType\": 1, \"valueTowardsCompletion\": 0.25, \"interactionType\": 1, \"questionType\": 1, \"questionId\": \"4_MAE\", \"learnToolsVersion\": \"0.3.4\", \"failureMessage\": \"\", \"exceptionClass\": \"\", \"trace\": \"\"}}, \"*\")"
      ],
      "text/plain": [
       "<IPython.core.display.Javascript object>"
      ]
     },
     "metadata": {},
     "output_type": "display_data"
    },
    {
     "data": {
      "text/markdown": [
       "<span style=\"color:#33cc33\">Correct</span>"
      ],
      "text/plain": [
       "Correct"
      ]
     },
     "metadata": {},
     "output_type": "display_data"
    }
   ],
   "source": [
    "from sklearn.metrics import mean_absolute_error\n",
    "val_mae = mean_absolute_error(val_y, val_predictions)\n",
    "\n",
    "# uncomment following line to see the validation_mae\n",
    "print(val_mae)\n",
    "\n",
    "# Check your answer\n",
    "step_4.check()"
   ]
  },
  {
   "cell_type": "code",
   "execution_count": 10,
   "id": "a239e2a8",
   "metadata": {
    "execution": {
     "iopub.execute_input": "2023-11-28T00:57:54.610365Z",
     "iopub.status.busy": "2023-11-28T00:57:54.610000Z",
     "iopub.status.idle": "2023-11-28T00:57:54.614015Z",
     "shell.execute_reply": "2023-11-28T00:57:54.613062Z"
    },
    "papermill": {
     "duration": 0.013002,
     "end_time": "2023-11-28T00:57:54.616622",
     "exception": false,
     "start_time": "2023-11-28T00:57:54.603620",
     "status": "completed"
    },
    "tags": []
   },
   "outputs": [],
   "source": [
    "# step_4.hint()\n",
    "# step_4.solution()"
   ]
  },
  {
   "cell_type": "markdown",
   "id": "db09cf08",
   "metadata": {
    "papermill": {
     "duration": 0.004994,
     "end_time": "2023-11-28T00:57:54.627308",
     "exception": false,
     "start_time": "2023-11-28T00:57:54.622314",
     "status": "completed"
    },
    "tags": []
   },
   "source": [
    "Is that MAE good?  There isn't a general rule for what values are good that applies across applications. But you'll see how to use (and improve) this number in the next step.\n",
    "\n",
    "# Keep Going\n",
    "\n",
    "You are ready for **[Underfitting and Overfitting](https://www.kaggle.com/dansbecker/underfitting-and-overfitting).**\n"
   ]
  },
  {
   "cell_type": "markdown",
   "id": "a9ddba91",
   "metadata": {
    "papermill": {
     "duration": 0.004827,
     "end_time": "2023-11-28T00:57:54.637746",
     "exception": false,
     "start_time": "2023-11-28T00:57:54.632919",
     "status": "completed"
    },
    "tags": []
   },
   "source": [
    "---\n",
    "\n",
    "\n",
    "\n",
    "\n",
    "*Have questions or comments? Visit the [course discussion forum](https://www.kaggle.com/learn/intro-to-machine-learning/discussion) to chat with other learners.*"
   ]
  }
 ],
 "metadata": {
  "kaggle": {
   "accelerator": "none",
   "dataSources": [
    {
     "databundleVersionId": 111096,
     "sourceId": 10211,
     "sourceType": "competition"
    },
    {
     "datasetId": 11167,
     "sourceId": 15520,
     "sourceType": "datasetVersion"
    },
    {
     "datasetId": 2709,
     "sourceId": 38454,
     "sourceType": "datasetVersion"
    }
   ],
   "isGpuEnabled": false,
   "isInternetEnabled": false,
   "language": "python",
   "sourceType": "notebook"
  },
  "kernelspec": {
   "display_name": "Python 3",
   "language": "python",
   "name": "python3"
  },
  "language_info": {
   "codemirror_mode": {
    "name": "ipython",
    "version": 3
   },
   "file_extension": ".py",
   "mimetype": "text/x-python",
   "name": "python",
   "nbconvert_exporter": "python",
   "pygments_lexer": "ipython3",
   "version": "3.10.12"
  },
  "papermill": {
   "default_parameters": {},
   "duration": 5.417073,
   "end_time": "2023-11-28T00:57:55.163437",
   "environment_variables": {},
   "exception": null,
   "input_path": "__notebook__.ipynb",
   "output_path": "__notebook__.ipynb",
   "parameters": {},
   "start_time": "2023-11-28T00:57:49.746364",
   "version": "2.4.0"
  }
 },
 "nbformat": 4,
 "nbformat_minor": 5
}
